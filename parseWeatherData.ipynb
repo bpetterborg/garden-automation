{
 "metadata": {
  "language_info": {
   "codemirror_mode": {
    "name": "ipython",
    "version": 3
   },
   "file_extension": ".py",
   "mimetype": "text/x-python",
   "name": "python",
   "nbconvert_exporter": "python",
   "pygments_lexer": "ipython3",
   "version": 3
  },
  "orig_nbformat": 2
 },
 "nbformat": 4,
 "nbformat_minor": 2,
 "cells": [
  {
   "cell_type": "code",
   "execution_count": null,
   "metadata": {},
   "outputs": [],
   "source": [
    "# tool to parse weather data\n",
    "# be sure to specify which file to read\n",
    "\n",
    "import csv # parse csv\n",
    "import matplotlib # graphs\n",
    "import iso8601 # parse timestamps"
   ]
  }
 ]
}