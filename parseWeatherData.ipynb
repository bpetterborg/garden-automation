{
 "metadata": {
  "language_info": {
   "codemirror_mode": {
    "name": "ipython",
    "version": 3
   },
   "file_extension": ".py",
   "mimetype": "text/x-python",
   "name": "python",
   "nbconvert_exporter": "python",
   "pygments_lexer": "ipython3",
   "version": 3
  },
  "orig_nbformat": 2
 },
 "nbformat": 4,
 "nbformat_minor": 2,
 "cells": [
  {
   "cell_type": "code",
   "execution_count": null,
   "metadata": {},
   "outputs": [],
   "source": [
    "# tool to parse weather data\n",
    "# be sure to specify which file to read\n",
    "\n",
    "# TODO:\n",
    "#  - write stuff for outputing to graph\n",
    "\n",
    "\n",
    "# imports\n",
    "import csv # parse csv\n",
    "import matplotlib # graphs\n",
    "import iso8601 # parse timestamps\n",
    "\n",
    "# variables\n",
    "inputFile = weatherLog.csv\n",
    "\n"
   ]
  },
  {
   "cell_type": "code",
   "execution_count": null,
   "metadata": {},
   "outputs": [],
   "source": [
    "# reading data\n",
    "with open(inputFile) as csv_file\n",
    "    csv_reader = csv_reader(csv_file, delimiter=',')\n",
    "    line_count == 0\n",
    "    for row in csv_reader:\n",
    "        if line_count == 0:\n",
    "            print(f'column names are {\", \".join(row)}') # print the data, replace this with outputing it to the graph\n",
    "            line_count += 1 # go to a new line\n",
    "        else:\n",
    "            print(f'\\t{row[0]} ') # can add a description here\n"
   ]
  }
 ]
}