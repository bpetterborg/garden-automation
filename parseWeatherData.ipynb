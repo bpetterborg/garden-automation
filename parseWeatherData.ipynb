{
 "metadata": {
  "language_info": {
   "codemirror_mode": {
    "name": "ipython",
    "version": 3
   },
   "file_extension": ".py",
   "mimetype": "text/x-python",
   "name": "python",
   "nbconvert_exporter": "python",
   "pygments_lexer": "ipython3",
   "version": 3
  },
  "orig_nbformat": 2
 },
 "nbformat": 4,
 "nbformat_minor": 2,
 "cells": [
  {
   "cell_type": "code",
   "execution_count": null,
   "metadata": {},
   "outputs": [],
   "source": [
    "# tool to parse weather data (wip)\n",
    "# be sure to specify which file to read\n",
    "\n",
    "# TODO:\n",
    "#  - write stuff for outputing to graph\n",
    "#  - parse and reformat timestamps, iso8601 is a bit ugly and hard to read\n",
    "#  - parse data with pandas because it is better\n",
    "\n",
    "# imports\n",
    "import matplotlib.pyplot as plt # graphs\n",
    "import matplotlib.cbook as cbook # not a clue what this does\n",
    "import numpy as np\n",
    "import iso8601 # parse timestamps for formatting\n",
    "import pandas as pd\n",
    "\n",
    "# variables\n",
    "# specify file to read data from\n",
    "inputFile = weatherLog.csv # try using double equals [==] if it doesn't work\n",
    "\n"
   ]
  },
  {
   "cell_type": "code",
   "execution_count": null,
   "metadata": {},
   "outputs": [],
   "source": [
    "# parse file and display graph\n",
    "\n",
    "# parse\n",
    "fname = cbook.get_sample_data(inputFile, asfileobj=False) # may need to set inputFile as str\n",
    "#fname = cbook.get_sample_data(str(inputFile), asfileobj=False) # try this\n",
    "\n"
   ]
  }
 ]
}